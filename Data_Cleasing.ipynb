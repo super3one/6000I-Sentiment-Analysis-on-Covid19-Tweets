{
  "nbformat": 4,
  "nbformat_minor": 0,
  "metadata": {
    "colab": {
      "name": "Data Cleasing",
      "provenance": []
    },
    "kernelspec": {
      "name": "python3",
      "display_name": "Python 3"
    }
  },
  "cells": [
    {
      "cell_type": "code",
      "metadata": {
        "id": "w9ua-AA37QFe"
      },
      "source": [
        "import pandas as pd\n",
        "import numpy as np\n",
        "import re\n",
        "from nltk.tokenize import WordPunctTokenizer"
      ],
      "execution_count": null,
      "outputs": []
    },
    {
      "cell_type": "code",
      "metadata": {
        "id": "45C1HJC58Bqm"
      },
      "source": [
        "tok = WordPunctTokenizer()\n",
        "\n",
        "pat1 = r'@[A-Za-z0-9_]+'\n",
        "pat2 = r'https?://[^ ]+'\n",
        "combined_pat = r'|'.join((pat1, pat2))\n",
        "www_pat = r'www.[^ ]+'\n",
        "negations_dic = {\"isn't\":\"is not\", \"aren't\":\"are not\", \"wasn't\":\"was not\", \"weren't\":\"were not\",\n",
        "                \"haven't\":\"have not\",\"hasn't\":\"has not\",\"hadn't\":\"had not\",\"won't\":\"will not\",\n",
        "                \"wouldn't\":\"would not\", \"don't\":\"do not\", \"doesn't\":\"does not\",\"didn't\":\"did not\",\n",
        "                \"can't\":\"can not\",\"couldn't\":\"could not\",\"shouldn't\":\"should not\",\"mightn't\":\"might not\",\n",
        "                \"mustn't\":\"must not\"}\n",
        "neg_pattern = re.compile(r'\\b(' + '|'.join(negations_dic.keys()) + r')\\b')\n",
        "\n",
        "def tweet_cleaner(text):\n",
        "  try:\n",
        "      bom_removed = text.decode(\"utf-8-sig\").replace(u\"\\ufffd\", \"?\")\n",
        "  except:\n",
        "      bom_removed = text\n",
        "  stripped = re.sub(combined_pat, '', bom_removed)\n",
        "  stripped = re.sub(www_pat, '', stripped)\n",
        "  lower_case = stripped.lower()\n",
        "  neg_handled = neg_pattern.sub(lambda x: negations_dic[x.group()], lower_case)\n",
        "  letters_only = re.sub(\"[^a-zA-Z]\", \" \", neg_handled)\n",
        "  # During the letters_only process two lines above, it has created unnecessay white spaces,\n",
        "  # I will tokenize and join together to remove unneccessary white spaces\n",
        "  words = [x for x  in tok.tokenize(letters_only) if len(x) > 1]\n",
        "  # words = [x for x  in tok.tokenize(neg_handled) if len(x) > 1]\n",
        "  return (\" \".join(words)).strip()"
      ],
      "execution_count": null,
      "outputs": []
    },
    {
      "cell_type": "code",
      "metadata": {
        "id": "YcDGjnJ-8CfL"
      },
      "source": [
        "df = pd.read_csv('/content/tweets_total.csv')\n",
        "total_len = df.shape[0]"
      ],
      "execution_count": null,
      "outputs": []
    },
    {
      "cell_type": "code",
      "metadata": {
        "colab": {
          "base_uri": "https://localhost:8080/"
        },
        "id": "PT1W0EmO8SFq",
        "outputId": "7cf7307d-e401-4fad-efc0-eeeb7e8f1649"
      },
      "source": [
        "print(df.at[0,'text'])\n",
        "df.at[0,'text'] = tweet_cleaner(df.at[0,'text'])\n",
        "print(df.at[0,'text'])"
      ],
      "execution_count": null,
      "outputs": [
        {
          "output_type": "stream",
          "text": [
            "PROTESTORS NEEDED 6PM-10PM DAILY (NOW). 1450 E McKinney DENTON COUNTY JAIL. Covid19 Outbreak. Released Trustee repo… https://t.co/zNAAr9CQZp\n",
            "protestors needed pm pm daily now mckinney denton county jail covid outbreak released trustee repo\n"
          ],
          "name": "stdout"
        }
      ]
    },
    {
      "cell_type": "code",
      "metadata": {
        "id": "yfsyBgA1-vbn"
      },
      "source": [
        "for i in range(total_len):\n",
        "  df.at[i,'text'] = tweet_cleaner(df.at[i,'text'])\n",
        "  print('Processing ' + str(i+1) + '//' + str(total_len) + '####################################################################')"
      ],
      "execution_count": null,
      "outputs": []
    },
    {
      "cell_type": "code",
      "metadata": {
        "colab": {
          "base_uri": "https://localhost:8080/"
        },
        "id": "bOkXJBOaCqsw",
        "outputId": "69c045d7-3975-4990-9cc1-c4ef4b001724"
      },
      "source": [
        "print(df.at[5,'text'])"
      ],
      "execution_count": null,
      "outputs": [
        {
          "output_type": "stream",
          "text": [
            "was bored so made this borisjohnson dumbanddumber coronavirus covid covidiots\n"
          ],
          "name": "stdout"
        }
      ]
    },
    {
      "cell_type": "code",
      "metadata": {
        "id": "tvAakPYUCyDW"
      },
      "source": [
        "df.to_csv('tweets_total_cleaned.csv')"
      ],
      "execution_count": null,
      "outputs": []
    },
    {
      "cell_type": "code",
      "metadata": {
        "colab": {
          "base_uri": "https://localhost:8080/",
          "height": 340
        },
        "id": "fYz5MTfAC6LI",
        "outputId": "b20f3ce6-f9fd-4180-ce50-7fcc95937d14"
      },
      "source": [
        "df2 = pd.read_csv('tweets_total_cleaned.csv',usecols=['text'])\n",
        "df2.iloc[:10]"
      ],
      "execution_count": null,
      "outputs": [
        {
          "output_type": "execute_result",
          "data": {
            "text/html": [
              "<div>\n",
              "<style scoped>\n",
              "    .dataframe tbody tr th:only-of-type {\n",
              "        vertical-align: middle;\n",
              "    }\n",
              "\n",
              "    .dataframe tbody tr th {\n",
              "        vertical-align: top;\n",
              "    }\n",
              "\n",
              "    .dataframe thead th {\n",
              "        text-align: right;\n",
              "    }\n",
              "</style>\n",
              "<table border=\"1\" class=\"dataframe\">\n",
              "  <thead>\n",
              "    <tr style=\"text-align: right;\">\n",
              "      <th></th>\n",
              "      <th>text</th>\n",
              "    </tr>\n",
              "  </thead>\n",
              "  <tbody>\n",
              "    <tr>\n",
              "      <th>0</th>\n",
              "      <td>protestors needed pm pm daily now mckinney den...</td>\n",
              "    </tr>\n",
              "    <tr>\n",
              "      <th>1</th>\n",
              "      <td>do not take your eye off the ball there are st...</td>\n",
              "    </tr>\n",
              "    <tr>\n",
              "      <th>2</th>\n",
              "      <td>excellent partnership to prevent covid thank y...</td>\n",
              "    </tr>\n",
              "    <tr>\n",
              "      <th>3</th>\n",
              "      <td>always honored to speak about critical covid h...</td>\n",
              "    </tr>\n",
              "    <tr>\n",
              "      <th>4</th>\n",
              "      <td>apparently at the timberlea store in fort mcmu...</td>\n",
              "    </tr>\n",
              "    <tr>\n",
              "      <th>5</th>\n",
              "      <td>was bored so made this borisjohnson dumbanddum...</td>\n",
              "    </tr>\n",
              "    <tr>\n",
              "      <th>6</th>\n",
              "      <td>while the stands may be empty at fenway the bi...</td>\n",
              "    </tr>\n",
              "    <tr>\n",
              "      <th>7</th>\n",
              "      <td>chief public health officer warns of pandemic ...</td>\n",
              "    </tr>\n",
              "    <tr>\n",
              "      <th>8</th>\n",
              "      <td>my opponent does not care about you that it th...</td>\n",
              "    </tr>\n",
              "    <tr>\n",
              "      <th>9</th>\n",
              "      <td>this week the commission passed and revised lo...</td>\n",
              "    </tr>\n",
              "  </tbody>\n",
              "</table>\n",
              "</div>"
            ],
            "text/plain": [
              "                                                text\n",
              "0  protestors needed pm pm daily now mckinney den...\n",
              "1  do not take your eye off the ball there are st...\n",
              "2  excellent partnership to prevent covid thank y...\n",
              "3  always honored to speak about critical covid h...\n",
              "4  apparently at the timberlea store in fort mcmu...\n",
              "5  was bored so made this borisjohnson dumbanddum...\n",
              "6  while the stands may be empty at fenway the bi...\n",
              "7  chief public health officer warns of pandemic ...\n",
              "8  my opponent does not care about you that it th...\n",
              "9  this week the commission passed and revised lo..."
            ]
          },
          "metadata": {
            "tags": []
          },
          "execution_count": 57
        }
      ]
    },
    {
      "cell_type": "code",
      "metadata": {
        "colab": {
          "base_uri": "https://localhost:8080/"
        },
        "id": "g5J1-TaVDrLB",
        "outputId": "d73e8ffd-7dfe-415e-c435-a08e0911408c"
      },
      "source": [
        "print(df2.at[1,'text'])"
      ],
      "execution_count": null,
      "outputs": [
        {
          "output_type": "stream",
          "text": [
            "do not take your eye off the ball there are still protests going on and more and more people are dying of covid\n"
          ],
          "name": "stdout"
        }
      ]
    }
  ]
}